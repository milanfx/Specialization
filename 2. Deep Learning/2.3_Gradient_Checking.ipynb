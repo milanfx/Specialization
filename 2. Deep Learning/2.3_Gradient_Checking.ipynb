{
  "cells": [
    {
      "cell_type": "markdown",
      "metadata": {
        "id": "view-in-github",
        "colab_type": "text"
      },
      "source": [
        "<a href=\"https://colab.research.google.com/github/milanfx/Specialization/blob/main/2.%20Deep%20Learning/2.3_Gradient_Checking.ipynb\" target=\"_parent\"><img src=\"https://colab.research.google.com/assets/colab-badge.svg\" alt=\"Open In Colab\"/></a>"
      ]
    },
    {
      "cell_type": "markdown",
      "metadata": {
        "id": "xRwN5urTvlWZ"
      },
      "source": [
        "# Gradient Checking\n",
        "\n",
        "Welcome to the final assignment for this week! In this assignment you'll be implementing gradient checking.\n",
        "\n",
        "By the end of this notebook, you'll be able to:\n",
        "\n",
        "Implement gradient checking to verify the accuracy of your backprop implementation."
      ]
    },
    {
      "cell_type": "markdown",
      "metadata": {
        "id": "cB95WyVWvlWh"
      },
      "source": [
        "## Table of Contents\n",
        "- [1 - Packages](#1)\n",
        "- [2 - Problem Statement](#2)\n",
        "- [3 - How does Gradient Checking work?](#3)\n",
        "- [4 - 1-Dimensional Gradient Checking](#4)\n",
        "    - [Exercise 1 - forward_propagation](#ex-1)\n",
        "    - [Exercise 2 - backward_propagation](#ex-2)\n",
        "    - [Exercise 3 - gradient_check](#ex-3)\n",
        "- [5 - N-Dimensional Gradient Checking](#5)\n",
        "    - [Exercise 4 - gradient_check_n](#ex-4)"
      ]
    },
    {
      "cell_type": "markdown",
      "metadata": {
        "id": "kUZfNc1IvlWj"
      },
      "source": [
        "<a name='1'></a>\n",
        "## 1 - Packages"
      ]
    },
    {
      "cell_type": "code",
      "execution_count": 1,
      "metadata": {
        "deletable": false,
        "editable": false,
        "id": "4AYn-gxTvlWk"
      },
      "outputs": [],
      "source": [
        "### v1.1"
      ]
    },
    {
      "cell_type": "code",
      "execution_count": 2,
      "metadata": {
        "id": "j3MosbfXvlWn"
      },
      "outputs": [],
      "source": [
        "import numpy as np\n",
        "\n",
        "%load_ext autoreload\n",
        "%autoreload 2"
      ]
    },
    {
      "cell_type": "markdown",
      "metadata": {
        "id": "d3KHA05XvlWo"
      },
      "source": [
        "<a name='2'></a>\n",
        "## 2 - Problem Statement\n",
        "\n",
        "You are part of a team working to make mobile payments available globally, and are asked to build a deep learning model to detect fraud--whenever someone makes a payment, you want to see if the payment might be fraudulent, such as if the user's account has been taken over by a hacker.\n",
        "\n",
        "You already know that backpropagation is quite challenging to implement, and sometimes has bugs. Because this is a mission-critical application, your company's CEO wants to be really certain that your implementation of backpropagation is correct. Your CEO says, \"Give me proof that your backpropagation is actually working!\" To give this reassurance, you are going to use \"gradient checking.\"\n",
        "\n",
        "Let's do it!"
      ]
    },
    {
      "cell_type": "markdown",
      "metadata": {
        "id": "A_wl7VSMvlWp"
      },
      "source": [
        "<a name='3'></a>\n",
        "## 3 - How does Gradient Checking work?\n",
        "Backpropagation computes the gradients $\\frac{\\partial J}{\\partial \\theta}$, where $\\theta$ denotes the parameters of the model. $J$ is computed using forward propagation and your loss function.\n",
        "\n",
        "Because forward propagation is relatively easy to implement, you're confident you got that right, and so you're almost 100% sure that you're computing the cost $J$ correctly. Thus, you can use your code for computing $J$ to verify the code for computing $\\frac{\\partial J}{\\partial \\theta}$.\n",
        "\n",
        "Let's look back at the definition of a derivative (or gradient):$$ \\frac{\\partial J}{\\partial \\theta} = \\lim_{\\varepsilon \\to 0} \\frac{J(\\theta + \\varepsilon) - J(\\theta - \\varepsilon)}{2 \\varepsilon} \\tag{1}$$\n",
        "\n",
        "If you're not familiar with the \"$\\displaystyle \\lim_{\\varepsilon \\to 0}$\" notation, it's just a way of saying \"when $\\varepsilon$ is really, really small.\"\n",
        "\n",
        "You know the following:\n",
        "\n",
        "$\\frac{\\partial J}{\\partial \\theta}$ is what you want to make sure you're computing correctly.\n",
        "You can compute $J(\\theta + \\varepsilon)$ and $J(\\theta - \\varepsilon)$ (in the case that $\\theta$ is a real number), since you're confident your implementation for $J$ is correct.\n",
        "Let's use equation (1) and a small value for $\\varepsilon$ to convince your CEO that your code for computing $\\frac{\\partial J}{\\partial \\theta}$ is correct!"
      ]
    },
    {
      "cell_type": "markdown",
      "metadata": {
        "id": "0s_aq9cEvlWp"
      },
      "source": [
        "<a name='4'></a>\n",
        "## 4 - 1-Dimensional Gradient Checking\n",
        "\n",
        "Consider a 1D linear function $J(\\theta) = \\theta x$. The model contains only a single real-valued parameter $\\theta$, and takes $x$ as input.\n",
        "\n",
        "You will implement code to compute $J(.)$ and its derivative $\\frac{\\partial J}{\\partial \\theta}$. You will then use gradient checking to make sure your derivative computation for $J$ is correct.\n",
        "\n",
        "<img src=\"images/1Dgrad_kiank.png\" style=\"width:600px;height:250px;\">\n",
        "<caption><center><font color='purple'><b>Figure 1</b>:1D linear model </font></center></caption>\n",
        "\n",
        "The diagram above shows the key computation steps: First start with $x$, then evaluate the function $J(x)$ (\"forward propagation\"). Then compute the derivative $\\frac{\\partial J}{\\partial \\theta}$ (\"backward propagation\").\n",
        "\n",
        "<a name='ex-1'></a>\n",
        "### Exercise 1 - forward_propagation\n",
        "\n",
        "Implement `forward propagation`. For this simple function compute $J(.)$"
      ]
    },
    {
      "cell_type": "code",
      "execution_count": 3,
      "metadata": {
        "deletable": false,
        "nbgrader": {
          "cell_type": "code",
          "checksum": "0f934d7a5ec9e6a41fc9ece5ec6a07fa",
          "grade": false,
          "grade_id": "cell-a4be88c5c0419ab7",
          "locked": false,
          "schema_version": 3,
          "solution": true,
          "task": false
        },
        "id": "GLDynq-jvlWq"
      },
      "outputs": [],
      "source": [
        "# FUNCTION: forward_propagation\n",
        "\n",
        "def forward_propagation(x, theta):\n",
        "    \"\"\"\n",
        "    Implement the linear forward propagation (compute J) presented in Figure 1 (J(theta) = theta * x)\n",
        "    Arguments:\n",
        "    x -- a real-valued input\n",
        "    theta -- our parameter, a real number as well\n",
        "    Returns:\n",
        "    J -- the value of function J, computed using the formula J(theta) = theta * x\n",
        "    \"\"\"\n",
        "    J = np.dot(theta, x)\n",
        "\n",
        "    return J"
      ]
    },
    {
      "cell_type": "code",
      "execution_count": 4,
      "metadata": {
        "deletable": false,
        "editable": false,
        "nbgrader": {
          "cell_type": "code",
          "checksum": "c775107f8d8491592913f1991d0fc3da",
          "grade": true,
          "grade_id": "cell-805a7fd19d554221",
          "locked": true,
          "points": 10,
          "schema_version": 3,
          "solution": false,
          "task": false
        },
        "colab": {
          "base_uri": "https://localhost:8080/"
        },
        "id": "ZZzKbBTLvlWr",
        "outputId": "b0527e78-dafe-4c53-fcee-285c97e22649"
      },
      "outputs": [
        {
          "output_type": "stream",
          "name": "stdout",
          "text": [
            "J = 8\n"
          ]
        }
      ],
      "source": [
        "x, theta = 2, 4\n",
        "J = forward_propagation(x, theta)\n",
        "print (\"J = \" + str(J))"
      ]
    },
    {
      "cell_type": "markdown",
      "metadata": {
        "id": "hk9pGhuVvlWv"
      },
      "source": [
        "<a name='ex-2'></a>\n",
        "### Exercise 2 - backward_propagation\n",
        "\n",
        "Now, implement the `backward propagation` step (derivative computation) of Figure 1. That is, compute the derivative of $J(\\theta) = \\theta x$ with respect to $\\theta$. To save you from doing the calculus, you should get $dtheta = \\frac { \\partial J }{ \\partial \\theta} = x$."
      ]
    },
    {
      "cell_type": "code",
      "execution_count": 5,
      "metadata": {
        "deletable": false,
        "nbgrader": {
          "cell_type": "code",
          "checksum": "7315e45824efc41770654b46c64c1c14",
          "grade": false,
          "grade_id": "cell-c06a1275399b210f",
          "locked": false,
          "schema_version": 3,
          "solution": true,
          "task": false
        },
        "id": "-RyxLh9VvlWw"
      },
      "outputs": [],
      "source": [
        "# FUNCTION: backward_propagation\n",
        "def backward_propagation(x, theta):\n",
        "    \"\"\"\n",
        "    Computes the derivative of J with respect to theta (see Figure 1).\n",
        "    Arguments:\n",
        "    x -- a real-valued input\n",
        "    theta -- our parameter, a real number as well\n",
        "    Returns:\n",
        "    dtheta -- the gradient of the cost with respect to theta\n",
        "    \"\"\"\n",
        "    dtheta = x\n",
        "    return dtheta"
      ]
    },
    {
      "cell_type": "code",
      "execution_count": 6,
      "metadata": {
        "deletable": false,
        "editable": false,
        "nbgrader": {
          "cell_type": "code",
          "checksum": "a4b03438ce60ba7d060246c0aed1cab8",
          "grade": true,
          "grade_id": "cell-7b67ed84ac8bfd91",
          "locked": true,
          "points": 10,
          "schema_version": 3,
          "solution": false,
          "task": false
        },
        "colab": {
          "base_uri": "https://localhost:8080/"
        },
        "id": "q27rUMgWvlWx",
        "outputId": "988f59cd-6cf1-46b8-e40b-3c96d1b94589"
      },
      "outputs": [
        {
          "output_type": "stream",
          "name": "stdout",
          "text": [
            "dtheta = 3\n"
          ]
        }
      ],
      "source": [
        "x, theta = 3, 4\n",
        "dtheta = backward_propagation(x, theta)\n",
        "print (\"dtheta = \" + str(dtheta))"
      ]
    },
    {
      "cell_type": "markdown",
      "metadata": {
        "id": "2Rqym8ZhvlWz"
      },
      "source": [
        "<a name='ex-3'></a>\n",
        "### Exercise 3 - gradient_check\n",
        "\n",
        "To show that the `backward_propagation()` function is correctly computing the gradient $\\frac{\\partial J}{\\partial \\theta}$, let's implement gradient checking.\n",
        "\n",
        "**Instructions**:\n",
        "- First compute \"gradapprox\" using the formula above (1) and a small value of $\\varepsilon$. Here are the Steps to follow:\n",
        "    1. $\\theta^{+} = \\theta + \\varepsilon$\n",
        "    2. $\\theta^{-} = \\theta - \\varepsilon$\n",
        "    3. $J^{+} = J(\\theta^{+})$\n",
        "    4. $J^{-} = J(\\theta^{-})$\n",
        "    5. $gradapprox = \\frac{J^{+} - J^{-}}{2  \\varepsilon}$\n",
        "- Then compute the gradient using backward propagation, and store the result in a variable \"grad\"\n",
        "- Finally, compute the relative difference between \"gradapprox\" and the \"grad\" using the following formula:\n",
        "$$ difference = \\frac {\\mid\\mid grad - gradapprox \\mid\\mid_2}{\\mid\\mid grad \\mid\\mid_2 + \\mid\\mid gradapprox \\mid\\mid_2} \\tag{2}$$\n",
        "You will need 3 Steps to compute this formula:\n",
        "   - 1'. compute the numerator using np.linalg.norm(...)\n",
        "   - 2'. compute the denominator. You will need to call np.linalg.norm(...) twice.\n",
        "   - 3'. divide them.\n",
        "- If this difference is small (say less than $10^{-7}$), you can be quite confident that you have computed your gradient correctly. Otherwise, there may be a mistake in the gradient computation.\n"
      ]
    },
    {
      "cell_type": "code",
      "execution_count": 7,
      "metadata": {
        "deletable": false,
        "nbgrader": {
          "cell_type": "code",
          "checksum": "80dfb6e4c898e29e5b088c5a678eea60",
          "grade": false,
          "grade_id": "cell-ed57ede577f9d607",
          "locked": false,
          "schema_version": 3,
          "solution": true,
          "task": false
        },
        "id": "kUjWGa3gvlW0"
      },
      "outputs": [],
      "source": [
        "# FUNCTION: gradient_check\n",
        "def gradient_check(x, theta, epsilon=1e-7, print_msg=False):\n",
        "    \"\"\"\n",
        "    Implement the gradient checking presented in Figure 1.\n",
        "    Arguments:\n",
        "    x -- a float input\n",
        "    theta -- our parameter, a float as well\n",
        "    epsilon -- tiny shift to the input to compute approximated gradient with formula(1)\n",
        "    Returns:\n",
        "    difference -- difference (2) between the approximated gradient and the backward propagation gradient. Float output\n",
        "    \"\"\"\n",
        "    # Compute gradapprox using right side of formula (1). epsilon is small enough, you don't need to worry about the limit.\n",
        "    thetaplus = theta + epsilon                       # Step 1\n",
        "    thetaminus = theta - epsilon                      # Step 2\n",
        "    J_plus = forward_propagation(x, thetaplus)                # Step 3\n",
        "    J_minus = forward_propagation(x, thetaminus)               # Step 4\n",
        "    gradapprox = (J_plus - J_minus) / (2 * epsilon)           # Step 5\n",
        "    # YOUR CODE ENDS HERE\n",
        "\n",
        "    # Check if gradapprox is close enough to the output of backward_propagation()\n",
        "    grad = backward_propagation(x, theta)\n",
        "\n",
        "    numerator = np.linalg.norm(grad - gradapprox)              # Step 1'\n",
        "    denominator = np.linalg.norm(grad) + np.linalg.norm(gradapprox)     # Step 2'\n",
        "    difference = numerator / denominator                  # Step 3'\n",
        "\n",
        "    if print_msg:\n",
        "        if difference > 2e-7:\n",
        "            print (\"\\033[93m\" + \"There is a mistake in the backward propagation! difference = \" + str(difference) + \"\\033[0m\")\n",
        "        else:\n",
        "            print (\"\\033[92m\" + \"Your backward propagation works perfectly fine! difference = \" + str(difference) + \"\\033[0m\")\n",
        "\n",
        "    return difference"
      ]
    },
    {
      "cell_type": "code",
      "execution_count": 8,
      "metadata": {
        "deletable": false,
        "editable": false,
        "nbgrader": {
          "cell_type": "code",
          "checksum": "3b3d8738e60040109feab1c72a71d0c7",
          "grade": true,
          "grade_id": "cell-be0338be7d50dd11",
          "locked": true,
          "points": 10,
          "schema_version": 3,
          "solution": false,
          "task": false
        },
        "colab": {
          "base_uri": "https://localhost:8080/"
        },
        "id": "PNBrzNB8vlW1",
        "outputId": "8ff24270-d92e-4780-8355-be5b09003827"
      },
      "outputs": [
        {
          "output_type": "stream",
          "name": "stdout",
          "text": [
            "\u001b[92mYour backward propagation works perfectly fine! difference = 7.814075313343006e-11\u001b[0m\n"
          ]
        }
      ],
      "source": [
        "x, theta = 3, 4\n",
        "difference = gradient_check(x, theta, print_msg=True)"
      ]
    },
    {
      "cell_type": "markdown",
      "metadata": {
        "id": "83SLtbkCvlW2"
      },
      "source": [
        "Congrats, the difference is smaller than the $2 * 10^{-7}$ threshold. So you can have high confidence that you've correctly computed the gradient in `backward_propagation()`.\n",
        "\n",
        "Now, in the more general case, your cost function $J$ has more than a single 1D input. When you are training a neural network, $\\theta$ actually consists of multiple matrices $W^{[l]}$ and biases $b^{[l]}$! It is important to know how to do a gradient check with higher-dimensional inputs. Let's do it!"
      ]
    },
    {
      "cell_type": "markdown",
      "metadata": {
        "id": "gF6bhCP0vlW3"
      },
      "source": [
        "<a name='5'></a>\n",
        "## 5 - N-Dimensional Gradient Checking"
      ]
    },
    {
      "cell_type": "markdown",
      "metadata": {
        "collapsed": true,
        "id": "DIaYviKuvlW3"
      },
      "source": [
        "The following figure describes the forward and backward propagation of your fraud detection model.\n",
        "\n",
        "<img src=\"images/NDgrad_kiank.png\" style=\"width:600px;height:400px;\">\n",
        "<caption><center><font color='purple'><b>Figure 2</b>: Deep neural network. LINEAR -> RELU -> LINEAR -> RELU -> LINEAR -> SIGMOID</font></center></caption>\n",
        "\n",
        "Let's look at your implementations for `forward_propagation` and `backward_propagation`.\n",
        "\n",
        "Below is the code provided for `forward_propagation_n`. Note here that `n` in the name implies it is for n-dimensions"
      ]
    },
    {
      "cell_type": "code",
      "source": [
        "def sigmoid(x):\n",
        "    s = 1 / (1 + np.exp(-x))\n",
        "    return s\n",
        "\n",
        "def relu(x):\n",
        "    s = np.maximum(0, x)\n",
        "    return s"
      ],
      "metadata": {
        "id": "S7BRl6LXxnVl"
      },
      "execution_count": 9,
      "outputs": []
    },
    {
      "cell_type": "code",
      "execution_count": 10,
      "metadata": {
        "id": "2JaTnyHkvlW4"
      },
      "outputs": [],
      "source": [
        "def forward_propagation_n(X, Y, parameters):\n",
        "    \"\"\"\n",
        "    Implements the forward propagation (and computes the cost) presented in Figure 3.\n",
        "    Arguments:\n",
        "    X -- training set for m examples\n",
        "    Y -- labels for m examples\n",
        "    parameters -- python dictionary containing your parameters \"W1\", \"b1\", \"W2\", \"b2\", \"W3\", \"b3\":\n",
        "                    W1 -- weight matrix of shape (5, 4)\n",
        "                    b1 -- bias vector of shape (5, 1)\n",
        "                    W2 -- weight matrix of shape (3, 5)\n",
        "                    b2 -- bias vector of shape (3, 1)\n",
        "                    W3 -- weight matrix of shape (1, 3)\n",
        "                    b3 -- bias vector of shape (1, 1)\n",
        "    Returns:\n",
        "    cost -- the cost function (logistic cost for m examples)\n",
        "    cache -- a tuple with the intermediate values (Z1, A1, W1, b1, Z2, A2, W2, b2, Z3, A3, W3, b3)\n",
        "    \"\"\"\n",
        "    # retrieve parameters\n",
        "    m = X.shape[1]\n",
        "    W1 = parameters[\"W1\"]\n",
        "    b1 = parameters[\"b1\"]\n",
        "    W2 = parameters[\"W2\"]\n",
        "    b2 = parameters[\"b2\"]\n",
        "    W3 = parameters[\"W3\"]\n",
        "    b3 = parameters[\"b3\"]\n",
        "\n",
        "    # LINEAR -> RELU -> LINEAR -> RELU -> LINEAR -> SIGMOID\n",
        "    Z1 = np.dot(W1, X) + b1\n",
        "    A1 = relu(Z1)\n",
        "    Z2 = np.dot(W2, A1) + b2\n",
        "    A2 = relu(Z2)\n",
        "    Z3 = np.dot(W3, A2) + b3\n",
        "    A3 = sigmoid(Z3)\n",
        "\n",
        "    # Cost\n",
        "    log_probs = np.multiply(-np.log(A3),Y) + np.multiply(-np.log(1 - A3), 1 - Y)\n",
        "    cost = 1. / m * np.sum(log_probs)\n",
        "\n",
        "    cache = (Z1, A1, W1, b1, Z2, A2, W2, b2, Z3, A3, W3, b3)\n",
        "\n",
        "    return cost, cache"
      ]
    },
    {
      "cell_type": "markdown",
      "metadata": {
        "id": "SXvQvRoGvlW5"
      },
      "source": [
        "Now, let's look at the code for backward propagation.\n",
        "\n",
        "Below is the code provided for `backward_propagation_n`. Note here that `n` in the name implies it is for n-dimensions"
      ]
    },
    {
      "cell_type": "code",
      "execution_count": 11,
      "metadata": {
        "id": "uNIVwc0MvlW6"
      },
      "outputs": [],
      "source": [
        "def backward_propagation_n(X, Y, cache):\n",
        "    \"\"\"\n",
        "    Implement the backward propagation presented in figure 2.\n",
        "    Arguments:\n",
        "    X -- input datapoint, of shape (input size, 1)\n",
        "    Y -- true \"label\"\n",
        "    cache -- cache output from forward_propagation_n()\n",
        "    Returns:\n",
        "    gradients -- A dictionary with the gradients of the cost with respect to each parameter, activation and pre-activation variables.\n",
        "    \"\"\"\n",
        "\n",
        "    m = X.shape[1]\n",
        "    (Z1, A1, W1, b1, Z2, A2, W2, b2, Z3, A3, W3, b3) = cache\n",
        "\n",
        "    dZ3 = A3 - Y\n",
        "    dW3 = 1. / m * np.dot(dZ3, A2.T)\n",
        "    db3 = 1. / m * np.sum(dZ3, axis=1, keepdims=True)\n",
        "\n",
        "    dA2 = np.dot(W3.T, dZ3)\n",
        "    dZ2 = np.multiply(dA2, np.int64(A2 > 0))\n",
        "    dW2 = 1. / m * np.dot(dZ2, A1.T) * 2\n",
        "    db2 = 1. / m * np.sum(dZ2, axis=1, keepdims=True)\n",
        "\n",
        "    dA1 = np.dot(W2.T, dZ2)\n",
        "    dZ1 = np.multiply(dA1, np.int64(A1 > 0))\n",
        "    dW1 = 1. / m * np.dot(dZ1, X.T)\n",
        "    db1 = 4. / m * np.sum(dZ1, axis=1, keepdims=True)\n",
        "\n",
        "    gradients = {\"dZ3\": dZ3, \"dW3\": dW3, \"db3\": db3,\n",
        "                 \"dA2\": dA2, \"dZ2\": dZ2, \"dW2\": dW2, \"db2\": db2,\n",
        "                 \"dA1\": dA1, \"dZ1\": dZ1, \"dW1\": dW1, \"db1\": db1}\n",
        "    return gradients"
      ]
    },
    {
      "cell_type": "markdown",
      "metadata": {
        "collapsed": true,
        "id": "hBLA2HzgvlW7"
      },
      "source": [
        "If you had just implemented these functions, you might not have high confidence whether they work correctly. So let's implement gradient checking to help verify the performance."
      ]
    },
    {
      "cell_type": "markdown",
      "metadata": {
        "id": "j8ojbPWOvlW7"
      },
      "source": [
        "**How does gradient checking work?**.\n",
        "\n",
        "As in Section 3 and 4, you want to compare \"gradapprox\" to the gradient computed by backpropagation. The formula is still:\n",
        "\n",
        "$$ \\frac{\\partial J}{\\partial \\theta} = \\lim_{\\varepsilon \\to 0} \\frac{J(\\theta + \\varepsilon) - J(\\theta - \\varepsilon)}{2 \\varepsilon} \\tag{1}$$\n",
        "\n",
        "However, $\\theta$ is not a scalar anymore. It is a dictionary called \"parameters\". The  function \"`dictionary_to_vector()`\" has been implemented for you. It converts the \"parameters\" dictionary into a vector called \"values\", obtained by reshaping all parameters (W1, b1, W2, b2, W3, b3) into vectors and concatenating them.\n",
        "\n",
        "The inverse function is \"`vector_to_dictionary`\" which outputs back the \"parameters\" dictionary.\n",
        "\n",
        "<img src=\"images/dictionary_to_vector.png\" style=\"width:600px;height:400px;\">\n",
        "<caption><center><font color='purple'><b>Figure 2</b>: dictionary_to_vector() and vector_to_dictionary(). You will need these functions in gradient_check_n()</font></center></caption>\n",
        "\n",
        "The \"gradients\" dictionary has also been converted into a vector \"grad\" using gradients_to_vector(), so you don't need to worry about that.\n",
        "\n",
        "Now, for every single parameter in your vector, you will apply the same procedure as for the gradient_check exercise. You will store each gradient approximation in a vector `gradapprox`. If the check goes as expected, each value in this approximation must match the real gradient values stored in the `grad` vector.\n",
        "\n",
        "Note that `grad` is calculated using the function `gradients_to_vector`, which uses the gradients outputs of the `backward_propagation_n` function.\n",
        "\n",
        "<a name='ex-4'></a>\n",
        "### Exercise 4 - gradient_check_n\n",
        "\n",
        "Implement the function below.\n",
        "\n",
        "**Instructions**: Here is pseudo-code that will help you implement the gradient check.\n",
        "\n",
        "For each i in num_parameters:\n",
        "- To compute `J_plus[i]`:\n",
        "    1. Set $\\theta^{+}$ to `np.copy(parameters_values)`\n",
        "    2. Set $\\theta^{+}_i$ to $\\theta^{+}_i + \\varepsilon$\n",
        "    3. Calculate $J^{+}_i$ using to `forward_propagation_n(x, y, vector_to_dictionary(`$\\theta^{+}$ `))`.     \n",
        "- To compute `J_minus[i]`: do the same thing with $\\theta^{-}$\n",
        "- Compute $gradapprox[i] = \\frac{J^{+}_i - J^{-}_i}{2 \\varepsilon}$\n",
        "\n",
        "Thus, you get a vector gradapprox, where gradapprox[i] is an approximation of the gradient with respect to `parameter_values[i]`. You can now compare this gradapprox vector to the gradients vector from backpropagation. Just like for the 1D case (Steps 1', 2', 3'), compute:\n",
        "$$ difference = \\frac {\\| grad - gradapprox \\|_2}{\\| grad \\|_2 + \\| gradapprox \\|_2 } \\tag{3}$$\n",
        "\n",
        "**Note**: Use `np.linalg.norm` to get the norms"
      ]
    },
    {
      "cell_type": "code",
      "source": [
        "def dictionary_to_vector(parameters):\n",
        "\n",
        "    keys = []\n",
        "    count = 0\n",
        "    for key in [\"W1\", \"b1\", \"W2\", \"b2\", \"W3\", \"b3\"]:\n",
        "\n",
        "        # flatten parameter\n",
        "        new_vector = np.reshape(parameters[key], (-1, 1))\n",
        "        keys = keys + [key] * new_vector.shape[0]\n",
        "\n",
        "        if count == 0:\n",
        "            theta = new_vector\n",
        "        else:\n",
        "            theta = np.concatenate((theta, new_vector), axis=0)\n",
        "        count = count + 1\n",
        "    return theta, keys\n",
        "\n",
        "def vector_to_dictionary(theta):\n",
        "\n",
        "    parameters = {}\n",
        "    parameters[\"W1\"] = theta[: 20].reshape((5, 4))\n",
        "    parameters[\"b1\"] = theta[20: 25].reshape((5, 1))\n",
        "    parameters[\"W2\"] = theta[25: 40].reshape((3, 5))\n",
        "    parameters[\"b2\"] = theta[40: 43].reshape((3, 1))\n",
        "    parameters[\"W3\"] = theta[43: 46].reshape((1, 3))\n",
        "    parameters[\"b3\"] = theta[46: 47].reshape((1, 1))\n",
        "\n",
        "    return parameters\n",
        "\n",
        "def gradients_to_vector(gradients):\n",
        "\n",
        "    count = 0\n",
        "    for key in [\"dW1\", \"db1\", \"dW2\", \"db2\", \"dW3\", \"db3\"]:\n",
        "        # flatten parameter\n",
        "        new_vector = np.reshape(gradients[key], (-1, 1))\n",
        "\n",
        "        if count == 0:\n",
        "            theta = new_vector\n",
        "        else:\n",
        "            theta = np.concatenate((theta, new_vector), axis=0)\n",
        "        count = count + 1\n",
        "    return theta"
      ],
      "metadata": {
        "id": "ioKbEYJsx1Lp"
      },
      "execution_count": 12,
      "outputs": []
    },
    {
      "cell_type": "code",
      "execution_count": 13,
      "metadata": {
        "deletable": false,
        "nbgrader": {
          "cell_type": "code",
          "checksum": "3e3b202b635b2e5dc4619c1daa0e1f0f",
          "grade": false,
          "grade_id": "cell-1e5a768bc4e28e66",
          "locked": false,
          "schema_version": 3,
          "solution": true,
          "task": false
        },
        "id": "mgW-VCldvlW8"
      },
      "outputs": [],
      "source": [
        "# FUNCTION: gradient_check_n\n",
        "def gradient_check_n(parameters, gradients, X, Y, epsilon=1e-7, print_msg=False):\n",
        "    \"\"\"\n",
        "    Checks if backward_propagation_n computes correctly the gradient of the cost output by forward_propagation_n\n",
        "    Arguments:\n",
        "    parameters -- python dictionary containing your parameters \"W1\", \"b1\", \"W2\", \"b2\", \"W3\", \"b3\"\n",
        "    grad -- output of backward_propagation_n, contains gradients of the cost with respect to the parameters\n",
        "    X -- input datapoint, of shape (input size, number of examples)\n",
        "    Y -- true \"label\"\n",
        "    epsilon -- tiny shift to the input to compute approximated gradient with formula(1)\n",
        "    Returns:\n",
        "    difference -- difference (2) between the approximated gradient and the backward propagation gradient\n",
        "    \"\"\"\n",
        "    # Set-up variables\n",
        "    parameters_values, _ = dictionary_to_vector(parameters)\n",
        "\n",
        "    grad = gradients_to_vector(gradients)\n",
        "    num_parameters = parameters_values.shape[0]\n",
        "    J_plus = np.zeros((num_parameters, 1))\n",
        "    J_minus = np.zeros((num_parameters, 1))\n",
        "    gradapprox = np.zeros((num_parameters, 1))\n",
        "\n",
        "    # Compute gradapprox\n",
        "    for i in range(num_parameters):\n",
        "        # Compute J_plus[i]. Inputs: \"parameters_values, epsilon\". Output = \"J_plus[i]\".\n",
        "        # \"_\" is used because the function you have outputs two parameters but we only care about the first one\n",
        "        thetaplus =  np.copy(parameters_values)                         # Step 1\n",
        "        thetaplus[i][0] = thetaplus[i][0] + epsilon                      # Step 2\n",
        "        J_plus[i], _ =  forward_propagation_n(X, Y, vector_to_dictionary(thetaplus))     # Step 3\n",
        "        # Compute J_minus[i]. Inputs: \"parameters_values, epsilon\". Output = \"J_minus[i]\".\n",
        "        thetaminus = np.copy(parameters_values)                         # Step 1\n",
        "        thetaminus[i][0] = thetaminus[i][0] - epsilon                     # Step 2\n",
        "        J_minus[i], _ = forward_propagation_n(X, Y, vector_to_dictionary(thetaminus))     # Step 3\n",
        "        # Compute gradapprox[i]\n",
        "        gradapprox[i] = (J_plus[i] - J_minus[i]) / (2 * epsilon)\n",
        "    # Compare gradapprox to backward propagation gradients by computing difference.\n",
        "    numerator = np.linalg.norm(grad - gradapprox)                         # Step 1\n",
        "    denominator = np.linalg.norm(grad) + np.linalg.norm(gradapprox)                # Step 2\n",
        "    difference = numerator / denominator                              # Step 3\n",
        "    # YOUR CODE ENDS HERE\n",
        "    if print_msg:\n",
        "        if difference > 2e-7:\n",
        "            print (\"\\033[93m\" + \"There is a mistake in the backward propagation! difference = \" + str(difference) + \"\\033[0m\")\n",
        "        else:\n",
        "            print (\"\\033[92m\" + \"Your backward propagation works perfectly fine! difference = \" + str(difference) + \"\\033[0m\")\n",
        "    return difference"
      ]
    },
    {
      "cell_type": "code",
      "source": [
        "def gradient_check_n_test_case():\n",
        "    np.random.seed(1)\n",
        "    x = np.random.randn(4,3)\n",
        "    y = np.array([1, 1, 0])\n",
        "    W1 = np.random.randn(5,4)\n",
        "    b1 = np.random.randn(5,1)\n",
        "    W2 = np.random.randn(3,5)\n",
        "    b2 = np.random.randn(3,1)\n",
        "    W3 = np.random.randn(1,3)\n",
        "    b3 = np.random.randn(1,1)\n",
        "    parameters = {\"W1\": W1,\n",
        "                  \"b1\": b1,\n",
        "                  \"W2\": W2,\n",
        "                  \"b2\": b2,\n",
        "                  \"W3\": W3,\n",
        "                  \"b3\": b3}\n",
        "    return x, y, parameters"
      ],
      "metadata": {
        "id": "iKEPQ21pyf8-"
      },
      "execution_count": 14,
      "outputs": []
    },
    {
      "cell_type": "code",
      "execution_count": 15,
      "metadata": {
        "deletable": false,
        "editable": false,
        "nbgrader": {
          "cell_type": "code",
          "checksum": "e119ddabcb075e6e3391464b48e11234",
          "grade": true,
          "grade_id": "cell-0d7896ce7c954fc9",
          "locked": true,
          "points": 20,
          "schema_version": 3,
          "solution": false,
          "task": false
        },
        "colab": {
          "base_uri": "https://localhost:8080/"
        },
        "id": "ML35g525vlW-",
        "outputId": "8c3f7080-f628-4034-96b8-317dad689d56"
      },
      "outputs": [
        {
          "output_type": "stream",
          "name": "stdout",
          "text": [
            "\u001b[93mThere is a mistake in the backward propagation! difference = 0.2850931567761624\u001b[0m\n"
          ]
        }
      ],
      "source": [
        "X, Y, parameters = gradient_check_n_test_case()\n",
        "\n",
        "cost, cache = forward_propagation_n(X, Y, parameters)\n",
        "gradients = backward_propagation_n(X, Y, cache)\n",
        "difference = gradient_check_n(parameters, gradients, X, Y, 1e-7, True)\n",
        "expected_values = [0.2850931567761623, 1.1890913024229996e-07]\n",
        "assert not(type(difference) == np.ndarray), \"You are not using np.linalg.norm for numerator or denominator\"\n",
        "assert np.any(np.isclose(difference, expected_values)), \"Wrong value. It is not one of the expected values\""
      ]
    },
    {
      "cell_type": "markdown",
      "metadata": {
        "id": "9QQsl2snvlW_"
      },
      "source": [
        "It seems that there were errors in the `backward_propagation_n` code! Good thing you've implemented the gradient check. Go back to `backward_propagation_n` and try to find/correct the errors *(Hint: check dW2 and db1)*. Rerun the gradient check when you think you've fixed it. Remember, you'll need to re-execute the cell defining `backward_propagation_n()` if you modify the code.\n",
        "\n",
        "Can you get gradient check to declare your derivative computation correct? Even though this part of the assignment isn't graded, you should try to find the bug and re-run gradient check until you're convinced backprop is now correctly implemented.\n",
        "\n",
        "**Notes**\n",
        "- Gradient Checking is slow! Approximating the gradient with $\\frac{\\partial J}{\\partial \\theta} \\approx  \\frac{J(\\theta + \\varepsilon) - J(\\theta - \\varepsilon)}{2 \\varepsilon}$ is computationally costly. For this reason, we don't run gradient checking at every iteration during training. Just a few times to check if the gradient is correct.\n",
        "- Gradient Checking, at least as we've presented it, doesn't work with dropout. You would usually run the gradient check algorithm without dropout to make sure your backprop is correct, then add dropout.\n",
        "\n",
        "Congrats! Now you can be confident that your deep learning model for fraud detection is working correctly! You can even use this to convince your CEO. :)\n",
        "<br>\n",
        "<font color='blue'>\n",
        "    \n",
        "**What you should remember from this notebook**:\n",
        "- Gradient checking verifies closeness between the gradients from backpropagation and the numerical approximation of the gradient (computed using forward propagation).\n",
        "- Gradient checking is slow, so you don't want to run it in every iteration of training. You would usually run it only to make sure your code is correct, then turn it off and use backprop for the actual learning process."
      ]
    },
    {
      "cell_type": "code",
      "execution_count": 19,
      "metadata": {
        "id": "b2QFN5FnvlXA"
      },
      "outputs": [],
      "source": [
        "# Fix backward_propagation_n db1 和 dW2"
      ]
    },
    {
      "cell_type": "code",
      "source": [
        "def backward_propagation_n(X, Y, cache):\n",
        "    \"\"\"\n",
        "    Implement the backward propagation presented in figure 2.\n",
        "    Arguments:\n",
        "    X -- input datapoint, of shape (input size, 1)\n",
        "    Y -- true \"label\"\n",
        "    cache -- cache output from forward_propagation_n()\n",
        "    Returns:\n",
        "    gradients -- A dictionary with the gradients of the cost with respect to each parameter, activation and pre-activation variables.\n",
        "    \"\"\"\n",
        "\n",
        "    m = X.shape[1]\n",
        "    (Z1, A1, W1, b1, Z2, A2, W2, b2, Z3, A3, W3, b3) = cache\n",
        "\n",
        "    dZ3 = A3 - Y\n",
        "    dW3 = 1. / m * np.dot(dZ3, A2.T)\n",
        "    db3 = 1. / m * np.sum(dZ3, axis=1, keepdims=True)\n",
        "\n",
        "    dA2 = np.dot(W3.T, dZ3)\n",
        "    dZ2 = np.multiply(dA2, np.int64(A2 > 0))\n",
        "    dW2 = 1. / m * np.dot(dZ2, A1.T)\n",
        "    db2 = 1. / m * np.sum(dZ2, axis=1, keepdims=True)\n",
        "\n",
        "    dA1 = np.dot(W2.T, dZ2)\n",
        "    dZ1 = np.multiply(dA1, np.int64(A1 > 0))\n",
        "    dW1 = 1. / m * np.dot(dZ1, X.T)\n",
        "    db1 = 1. / m * np.sum(dZ1, axis=1, keepdims=True)\n",
        "\n",
        "    gradients = {\"dZ3\": dZ3, \"dW3\": dW3, \"db3\": db3,\n",
        "                 \"dA2\": dA2, \"dZ2\": dZ2, \"dW2\": dW2, \"db2\": db2,\n",
        "                 \"dA1\": dA1, \"dZ1\": dZ1, \"dW1\": dW1, \"db1\": db1}\n",
        "    return gradients"
      ],
      "metadata": {
        "id": "_yhLRyd5zxO2"
      },
      "execution_count": 17,
      "outputs": []
    },
    {
      "cell_type": "code",
      "source": [
        "X, Y, parameters = gradient_check_n_test_case()\n",
        "\n",
        "cost, cache = forward_propagation_n(X, Y, parameters)\n",
        "gradients = backward_propagation_n(X, Y, cache)\n",
        "difference = gradient_check_n(parameters, gradients, X, Y, 1e-7, True)\n",
        "expected_values = [0.2850931567761623, 1.1890913024229996e-07]\n",
        "assert not(type(difference) == np.ndarray), \"You are not using np.linalg.norm for numerator or denominator\"\n",
        "assert np.any(np.isclose(difference, expected_values)), \"Wrong value. It is not one of the expected values\""
      ],
      "metadata": {
        "colab": {
          "base_uri": "https://localhost:8080/"
        },
        "id": "DeaNHvdN0DXT",
        "outputId": "753cb8fa-7eab-4103-a27b-1ff97ce0ec54"
      },
      "execution_count": 18,
      "outputs": [
        {
          "output_type": "stream",
          "name": "stdout",
          "text": [
            "\u001b[92mYour backward propagation works perfectly fine! difference = 1.1890913024229996e-07\u001b[0m\n"
          ]
        }
      ]
    },
    {
      "cell_type": "code",
      "source": [],
      "metadata": {
        "id": "54JQH3qn0JQF"
      },
      "execution_count": null,
      "outputs": []
    }
  ],
  "metadata": {
    "coursera": {
      "course_slug": "deep-neural-network",
      "graded_item_id": "n6NBD",
      "launcher_item_id": "yfOsE"
    },
    "kernelspec": {
      "display_name": "Python 3",
      "language": "python",
      "name": "python3"
    },
    "language_info": {
      "codemirror_mode": {
        "name": "ipython",
        "version": 3
      },
      "file_extension": ".py",
      "mimetype": "text/x-python",
      "name": "python",
      "nbconvert_exporter": "python",
      "pygments_lexer": "ipython3",
      "version": "3.7.6"
    },
    "colab": {
      "provenance": [],
      "include_colab_link": true
    }
  },
  "nbformat": 4,
  "nbformat_minor": 0
}